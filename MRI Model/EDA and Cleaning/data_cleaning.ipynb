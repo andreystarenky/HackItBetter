{
 "cells": [
  {
   "cell_type": "code",
   "execution_count": 2,
   "metadata": {
    "collapsed": true
   },
   "outputs": [],
   "source": [
    "import os\n",
    "import cv2\n",
    "import numpy as np\n",
    "import pandas as pd"
   ]
  },
  {
   "cell_type": "code",
   "execution_count": 5,
   "outputs": [
    {
     "data": {
      "text/plain": "        Patient  RNASeqCluster  MethylationCluster  miRNACluster  CNCluster  \\\n0  TCGA_CS_4941            2.0                 4.0             2        2.0   \n1  TCGA_CS_4942            1.0                 5.0             2        1.0   \n2  TCGA_CS_4943            1.0                 5.0             2        1.0   \n3  TCGA_CS_4944            NaN                 5.0             2        1.0   \n4  TCGA_CS_5393            4.0                 5.0             2        1.0   \n\n   RPPACluster  OncosignCluster  COCCluster  histological_type  \\\n0          NaN              3.0           2                1.0   \n1          1.0              2.0           1                1.0   \n2          2.0              2.0           1                1.0   \n3          2.0              1.0           1                1.0   \n4          2.0              3.0           1                1.0   \n\n   neoplasm_histologic_grade  tumor_tissue_site  laterality  tumor_location  \\\n0                        2.0                1.0         3.0             2.0   \n1                        2.0                1.0         3.0             2.0   \n2                        2.0                1.0         1.0             2.0   \n3                        1.0                1.0         3.0             6.0   \n4                        2.0                1.0         1.0             6.0   \n\n   gender  age_at_initial_pathologic  race  ethnicity  death01  \n0     2.0                       67.0   3.0        2.0      1.0  \n1     1.0                       44.0   2.0        NaN      1.0  \n2     2.0                       37.0   3.0        NaN      0.0  \n3     2.0                       50.0   3.0        NaN      0.0  \n4     2.0                       39.0   3.0        NaN      0.0  ",
      "text/html": "<div>\n<style scoped>\n    .dataframe tbody tr th:only-of-type {\n        vertical-align: middle;\n    }\n\n    .dataframe tbody tr th {\n        vertical-align: top;\n    }\n\n    .dataframe thead th {\n        text-align: right;\n    }\n</style>\n<table border=\"1\" class=\"dataframe\">\n  <thead>\n    <tr style=\"text-align: right;\">\n      <th></th>\n      <th>Patient</th>\n      <th>RNASeqCluster</th>\n      <th>MethylationCluster</th>\n      <th>miRNACluster</th>\n      <th>CNCluster</th>\n      <th>RPPACluster</th>\n      <th>OncosignCluster</th>\n      <th>COCCluster</th>\n      <th>histological_type</th>\n      <th>neoplasm_histologic_grade</th>\n      <th>tumor_tissue_site</th>\n      <th>laterality</th>\n      <th>tumor_location</th>\n      <th>gender</th>\n      <th>age_at_initial_pathologic</th>\n      <th>race</th>\n      <th>ethnicity</th>\n      <th>death01</th>\n    </tr>\n  </thead>\n  <tbody>\n    <tr>\n      <th>0</th>\n      <td>TCGA_CS_4941</td>\n      <td>2.0</td>\n      <td>4.0</td>\n      <td>2</td>\n      <td>2.0</td>\n      <td>NaN</td>\n      <td>3.0</td>\n      <td>2</td>\n      <td>1.0</td>\n      <td>2.0</td>\n      <td>1.0</td>\n      <td>3.0</td>\n      <td>2.0</td>\n      <td>2.0</td>\n      <td>67.0</td>\n      <td>3.0</td>\n      <td>2.0</td>\n      <td>1.0</td>\n    </tr>\n    <tr>\n      <th>1</th>\n      <td>TCGA_CS_4942</td>\n      <td>1.0</td>\n      <td>5.0</td>\n      <td>2</td>\n      <td>1.0</td>\n      <td>1.0</td>\n      <td>2.0</td>\n      <td>1</td>\n      <td>1.0</td>\n      <td>2.0</td>\n      <td>1.0</td>\n      <td>3.0</td>\n      <td>2.0</td>\n      <td>1.0</td>\n      <td>44.0</td>\n      <td>2.0</td>\n      <td>NaN</td>\n      <td>1.0</td>\n    </tr>\n    <tr>\n      <th>2</th>\n      <td>TCGA_CS_4943</td>\n      <td>1.0</td>\n      <td>5.0</td>\n      <td>2</td>\n      <td>1.0</td>\n      <td>2.0</td>\n      <td>2.0</td>\n      <td>1</td>\n      <td>1.0</td>\n      <td>2.0</td>\n      <td>1.0</td>\n      <td>1.0</td>\n      <td>2.0</td>\n      <td>2.0</td>\n      <td>37.0</td>\n      <td>3.0</td>\n      <td>NaN</td>\n      <td>0.0</td>\n    </tr>\n    <tr>\n      <th>3</th>\n      <td>TCGA_CS_4944</td>\n      <td>NaN</td>\n      <td>5.0</td>\n      <td>2</td>\n      <td>1.0</td>\n      <td>2.0</td>\n      <td>1.0</td>\n      <td>1</td>\n      <td>1.0</td>\n      <td>1.0</td>\n      <td>1.0</td>\n      <td>3.0</td>\n      <td>6.0</td>\n      <td>2.0</td>\n      <td>50.0</td>\n      <td>3.0</td>\n      <td>NaN</td>\n      <td>0.0</td>\n    </tr>\n    <tr>\n      <th>4</th>\n      <td>TCGA_CS_5393</td>\n      <td>4.0</td>\n      <td>5.0</td>\n      <td>2</td>\n      <td>1.0</td>\n      <td>2.0</td>\n      <td>3.0</td>\n      <td>1</td>\n      <td>1.0</td>\n      <td>2.0</td>\n      <td>1.0</td>\n      <td>1.0</td>\n      <td>6.0</td>\n      <td>2.0</td>\n      <td>39.0</td>\n      <td>3.0</td>\n      <td>NaN</td>\n      <td>0.0</td>\n    </tr>\n  </tbody>\n</table>\n</div>"
     },
     "execution_count": 5,
     "metadata": {},
     "output_type": "execute_result"
    }
   ],
   "source": [
    "initial_df = pd.read_csv('./data/data.csv')\n",
    "initial_df.head()"
   ],
   "metadata": {
    "collapsed": false,
    "pycharm": {
     "name": "#%%\n"
    }
   }
  },
  {
   "cell_type": "code",
   "execution_count": 7,
   "outputs": [
    {
     "data": {
      "text/plain": "        Patient_ID            Patient_Dir  \\\n0     TCGA_CS_4941  TCGA_CS_4941_19960909   \n1     TCGA_CS_4941  TCGA_CS_4941_19960909   \n2     TCGA_CS_4941  TCGA_CS_4941_19960909   \n3     TCGA_CS_4941  TCGA_CS_4941_19960909   \n4     TCGA_CS_4941  TCGA_CS_4941_19960909   \n...            ...                    ...   \n3924  TCGA_HT_A61B  TCGA_HT_A61B_19991127   \n3925  TCGA_HT_A61B  TCGA_HT_A61B_19991127   \n3926  TCGA_HT_A61B  TCGA_HT_A61B_19991127   \n3927  TCGA_HT_A61B  TCGA_HT_A61B_19991127   \n3928  TCGA_HT_A61B  TCGA_HT_A61B_19991127   \n\n                                                    MRI  \\\n0     ./data/TCGA_CS_4941_19960909\\TCGA_CS_4941_1996...   \n1     ./data/TCGA_CS_4941_19960909\\TCGA_CS_4941_1996...   \n2     ./data/TCGA_CS_4941_19960909\\TCGA_CS_4941_1996...   \n3     ./data/TCGA_CS_4941_19960909\\TCGA_CS_4941_1996...   \n4     ./data/TCGA_CS_4941_19960909\\TCGA_CS_4941_1996...   \n...                                                 ...   \n3924  ./data/TCGA_HT_A61B_19991127\\TCGA_HT_A61B_1999...   \n3925  ./data/TCGA_HT_A61B_19991127\\TCGA_HT_A61B_1999...   \n3926  ./data/TCGA_HT_A61B_19991127\\TCGA_HT_A61B_1999...   \n3927  ./data/TCGA_HT_A61B_19991127\\TCGA_HT_A61B_1999...   \n3928  ./data/TCGA_HT_A61B_19991127\\TCGA_HT_A61B_1999...   \n\n                                                   Mask  \n0     ./data/TCGA_CS_4941_19960909\\TCGA_CS_4941_1996...  \n1     ./data/TCGA_CS_4941_19960909\\TCGA_CS_4941_1996...  \n2     ./data/TCGA_CS_4941_19960909\\TCGA_CS_4941_1996...  \n3     ./data/TCGA_CS_4941_19960909\\TCGA_CS_4941_1996...  \n4     ./data/TCGA_CS_4941_19960909\\TCGA_CS_4941_1996...  \n...                                                 ...  \n3924  ./data/TCGA_HT_A61B_19991127\\TCGA_HT_A61B_1999...  \n3925  ./data/TCGA_HT_A61B_19991127\\TCGA_HT_A61B_1999...  \n3926  ./data/TCGA_HT_A61B_19991127\\TCGA_HT_A61B_1999...  \n3927  ./data/TCGA_HT_A61B_19991127\\TCGA_HT_A61B_1999...  \n3928  ./data/TCGA_HT_A61B_19991127\\TCGA_HT_A61B_1999...  \n\n[3929 rows x 4 columns]",
      "text/html": "<div>\n<style scoped>\n    .dataframe tbody tr th:only-of-type {\n        vertical-align: middle;\n    }\n\n    .dataframe tbody tr th {\n        vertical-align: top;\n    }\n\n    .dataframe thead th {\n        text-align: right;\n    }\n</style>\n<table border=\"1\" class=\"dataframe\">\n  <thead>\n    <tr style=\"text-align: right;\">\n      <th></th>\n      <th>Patient_ID</th>\n      <th>Patient_Dir</th>\n      <th>MRI</th>\n      <th>Mask</th>\n    </tr>\n  </thead>\n  <tbody>\n    <tr>\n      <th>0</th>\n      <td>TCGA_CS_4941</td>\n      <td>TCGA_CS_4941_19960909</td>\n      <td>./data/TCGA_CS_4941_19960909\\TCGA_CS_4941_1996...</td>\n      <td>./data/TCGA_CS_4941_19960909\\TCGA_CS_4941_1996...</td>\n    </tr>\n    <tr>\n      <th>1</th>\n      <td>TCGA_CS_4941</td>\n      <td>TCGA_CS_4941_19960909</td>\n      <td>./data/TCGA_CS_4941_19960909\\TCGA_CS_4941_1996...</td>\n      <td>./data/TCGA_CS_4941_19960909\\TCGA_CS_4941_1996...</td>\n    </tr>\n    <tr>\n      <th>2</th>\n      <td>TCGA_CS_4941</td>\n      <td>TCGA_CS_4941_19960909</td>\n      <td>./data/TCGA_CS_4941_19960909\\TCGA_CS_4941_1996...</td>\n      <td>./data/TCGA_CS_4941_19960909\\TCGA_CS_4941_1996...</td>\n    </tr>\n    <tr>\n      <th>3</th>\n      <td>TCGA_CS_4941</td>\n      <td>TCGA_CS_4941_19960909</td>\n      <td>./data/TCGA_CS_4941_19960909\\TCGA_CS_4941_1996...</td>\n      <td>./data/TCGA_CS_4941_19960909\\TCGA_CS_4941_1996...</td>\n    </tr>\n    <tr>\n      <th>4</th>\n      <td>TCGA_CS_4941</td>\n      <td>TCGA_CS_4941_19960909</td>\n      <td>./data/TCGA_CS_4941_19960909\\TCGA_CS_4941_1996...</td>\n      <td>./data/TCGA_CS_4941_19960909\\TCGA_CS_4941_1996...</td>\n    </tr>\n    <tr>\n      <th>...</th>\n      <td>...</td>\n      <td>...</td>\n      <td>...</td>\n      <td>...</td>\n    </tr>\n    <tr>\n      <th>3924</th>\n      <td>TCGA_HT_A61B</td>\n      <td>TCGA_HT_A61B_19991127</td>\n      <td>./data/TCGA_HT_A61B_19991127\\TCGA_HT_A61B_1999...</td>\n      <td>./data/TCGA_HT_A61B_19991127\\TCGA_HT_A61B_1999...</td>\n    </tr>\n    <tr>\n      <th>3925</th>\n      <td>TCGA_HT_A61B</td>\n      <td>TCGA_HT_A61B_19991127</td>\n      <td>./data/TCGA_HT_A61B_19991127\\TCGA_HT_A61B_1999...</td>\n      <td>./data/TCGA_HT_A61B_19991127\\TCGA_HT_A61B_1999...</td>\n    </tr>\n    <tr>\n      <th>3926</th>\n      <td>TCGA_HT_A61B</td>\n      <td>TCGA_HT_A61B_19991127</td>\n      <td>./data/TCGA_HT_A61B_19991127\\TCGA_HT_A61B_1999...</td>\n      <td>./data/TCGA_HT_A61B_19991127\\TCGA_HT_A61B_1999...</td>\n    </tr>\n    <tr>\n      <th>3927</th>\n      <td>TCGA_HT_A61B</td>\n      <td>TCGA_HT_A61B_19991127</td>\n      <td>./data/TCGA_HT_A61B_19991127\\TCGA_HT_A61B_1999...</td>\n      <td>./data/TCGA_HT_A61B_19991127\\TCGA_HT_A61B_1999...</td>\n    </tr>\n    <tr>\n      <th>3928</th>\n      <td>TCGA_HT_A61B</td>\n      <td>TCGA_HT_A61B_19991127</td>\n      <td>./data/TCGA_HT_A61B_19991127\\TCGA_HT_A61B_1999...</td>\n      <td>./data/TCGA_HT_A61B_19991127\\TCGA_HT_A61B_1999...</td>\n    </tr>\n  </tbody>\n</table>\n<p>3929 rows × 4 columns</p>\n</div>"
     },
     "execution_count": 7,
     "metadata": {},
     "output_type": "execute_result"
    }
   ],
   "source": [
    "dir_df = {\n",
    "    'Patient_ID': [],\n",
    "    'Patient_Dir': [],\n",
    "    'MRI': [],\n",
    "    'Mask': [],\n",
    "}\n",
    "\n",
    "\n",
    "for path in os.listdir('./data/'):\n",
    "    # skip files\n",
    "    if path.find('.') != -1:\n",
    "        continue\n",
    "\n",
    "    # print(path)\n",
    "    for _path in os.listdir(os.path.join('./data/', path)):\n",
    "        if _path.find('_mask') != -1:\n",
    "            continue\n",
    "\n",
    "        mri_path = os.path.join('./data/', path, _path)\n",
    "        mask_path = mri_path[:-4]  + '_mask' + mri_path[-4:]\n",
    "\n",
    "        dir_df['Patient_ID'].append(path[:12])\n",
    "        dir_df['Patient_Dir'].append(path)\n",
    "        dir_df['MRI'].append(mri_path)\n",
    "        dir_df['Mask'].append(mask_path)\n",
    "\n",
    "\n",
    "dir_df = pd.DataFrame(dir_df)\n",
    "dir_df\n"
   ],
   "metadata": {
    "collapsed": false,
    "pycharm": {
     "name": "#%%\n"
    }
   }
  },
  {
   "cell_type": "code",
   "execution_count": 8,
   "outputs": [],
   "source": [
    "diagnoses = []\n",
    "\n",
    "for mask in dir_df['Mask']:\n",
    "    mask = np.max(cv2.imread(mask))\n",
    "    if mask > 0:\n",
    "        diagnoses.append(1)\n",
    "    else:\n",
    "        diagnoses.append(0)"
   ],
   "metadata": {
    "collapsed": false,
    "pycharm": {
     "name": "#%%\n"
    }
   }
  },
  {
   "cell_type": "code",
   "execution_count": 10,
   "outputs": [
    {
     "name": "stdout",
     "output_type": "stream",
     "text": [
      "[0, 0, 1, 1, 1, 1, 1, 1, 1, 1]\n"
     ]
    }
   ],
   "source": [
    "print(diagnoses[:10])"
   ],
   "metadata": {
    "collapsed": false,
    "pycharm": {
     "name": "#%%\n"
    }
   }
  },
  {
   "cell_type": "code",
   "execution_count": 12,
   "outputs": [
    {
     "data": {
      "text/plain": "        Patient_ID            Patient_Dir  \\\n0     TCGA_CS_4941  TCGA_CS_4941_19960909   \n1     TCGA_CS_4941  TCGA_CS_4941_19960909   \n2     TCGA_CS_4941  TCGA_CS_4941_19960909   \n3     TCGA_CS_4941  TCGA_CS_4941_19960909   \n4     TCGA_CS_4941  TCGA_CS_4941_19960909   \n...            ...                    ...   \n3924  TCGA_HT_A61B  TCGA_HT_A61B_19991127   \n3925  TCGA_HT_A61B  TCGA_HT_A61B_19991127   \n3926  TCGA_HT_A61B  TCGA_HT_A61B_19991127   \n3927  TCGA_HT_A61B  TCGA_HT_A61B_19991127   \n3928  TCGA_HT_A61B  TCGA_HT_A61B_19991127   \n\n                                                    MRI  \\\n0     ./data/TCGA_CS_4941_19960909\\TCGA_CS_4941_1996...   \n1     ./data/TCGA_CS_4941_19960909\\TCGA_CS_4941_1996...   \n2     ./data/TCGA_CS_4941_19960909\\TCGA_CS_4941_1996...   \n3     ./data/TCGA_CS_4941_19960909\\TCGA_CS_4941_1996...   \n4     ./data/TCGA_CS_4941_19960909\\TCGA_CS_4941_1996...   \n...                                                 ...   \n3924  ./data/TCGA_HT_A61B_19991127\\TCGA_HT_A61B_1999...   \n3925  ./data/TCGA_HT_A61B_19991127\\TCGA_HT_A61B_1999...   \n3926  ./data/TCGA_HT_A61B_19991127\\TCGA_HT_A61B_1999...   \n3927  ./data/TCGA_HT_A61B_19991127\\TCGA_HT_A61B_1999...   \n3928  ./data/TCGA_HT_A61B_19991127\\TCGA_HT_A61B_1999...   \n\n                                                   Mask  Diagnosis  \n0     ./data/TCGA_CS_4941_19960909\\TCGA_CS_4941_1996...          0  \n1     ./data/TCGA_CS_4941_19960909\\TCGA_CS_4941_1996...          0  \n2     ./data/TCGA_CS_4941_19960909\\TCGA_CS_4941_1996...          1  \n3     ./data/TCGA_CS_4941_19960909\\TCGA_CS_4941_1996...          1  \n4     ./data/TCGA_CS_4941_19960909\\TCGA_CS_4941_1996...          1  \n...                                                 ...        ...  \n3924  ./data/TCGA_HT_A61B_19991127\\TCGA_HT_A61B_1999...          0  \n3925  ./data/TCGA_HT_A61B_19991127\\TCGA_HT_A61B_1999...          0  \n3926  ./data/TCGA_HT_A61B_19991127\\TCGA_HT_A61B_1999...          0  \n3927  ./data/TCGA_HT_A61B_19991127\\TCGA_HT_A61B_1999...          0  \n3928  ./data/TCGA_HT_A61B_19991127\\TCGA_HT_A61B_1999...          0  \n\n[3929 rows x 5 columns]",
      "text/html": "<div>\n<style scoped>\n    .dataframe tbody tr th:only-of-type {\n        vertical-align: middle;\n    }\n\n    .dataframe tbody tr th {\n        vertical-align: top;\n    }\n\n    .dataframe thead th {\n        text-align: right;\n    }\n</style>\n<table border=\"1\" class=\"dataframe\">\n  <thead>\n    <tr style=\"text-align: right;\">\n      <th></th>\n      <th>Patient_ID</th>\n      <th>Patient_Dir</th>\n      <th>MRI</th>\n      <th>Mask</th>\n      <th>Diagnosis</th>\n    </tr>\n  </thead>\n  <tbody>\n    <tr>\n      <th>0</th>\n      <td>TCGA_CS_4941</td>\n      <td>TCGA_CS_4941_19960909</td>\n      <td>./data/TCGA_CS_4941_19960909\\TCGA_CS_4941_1996...</td>\n      <td>./data/TCGA_CS_4941_19960909\\TCGA_CS_4941_1996...</td>\n      <td>0</td>\n    </tr>\n    <tr>\n      <th>1</th>\n      <td>TCGA_CS_4941</td>\n      <td>TCGA_CS_4941_19960909</td>\n      <td>./data/TCGA_CS_4941_19960909\\TCGA_CS_4941_1996...</td>\n      <td>./data/TCGA_CS_4941_19960909\\TCGA_CS_4941_1996...</td>\n      <td>0</td>\n    </tr>\n    <tr>\n      <th>2</th>\n      <td>TCGA_CS_4941</td>\n      <td>TCGA_CS_4941_19960909</td>\n      <td>./data/TCGA_CS_4941_19960909\\TCGA_CS_4941_1996...</td>\n      <td>./data/TCGA_CS_4941_19960909\\TCGA_CS_4941_1996...</td>\n      <td>1</td>\n    </tr>\n    <tr>\n      <th>3</th>\n      <td>TCGA_CS_4941</td>\n      <td>TCGA_CS_4941_19960909</td>\n      <td>./data/TCGA_CS_4941_19960909\\TCGA_CS_4941_1996...</td>\n      <td>./data/TCGA_CS_4941_19960909\\TCGA_CS_4941_1996...</td>\n      <td>1</td>\n    </tr>\n    <tr>\n      <th>4</th>\n      <td>TCGA_CS_4941</td>\n      <td>TCGA_CS_4941_19960909</td>\n      <td>./data/TCGA_CS_4941_19960909\\TCGA_CS_4941_1996...</td>\n      <td>./data/TCGA_CS_4941_19960909\\TCGA_CS_4941_1996...</td>\n      <td>1</td>\n    </tr>\n    <tr>\n      <th>...</th>\n      <td>...</td>\n      <td>...</td>\n      <td>...</td>\n      <td>...</td>\n      <td>...</td>\n    </tr>\n    <tr>\n      <th>3924</th>\n      <td>TCGA_HT_A61B</td>\n      <td>TCGA_HT_A61B_19991127</td>\n      <td>./data/TCGA_HT_A61B_19991127\\TCGA_HT_A61B_1999...</td>\n      <td>./data/TCGA_HT_A61B_19991127\\TCGA_HT_A61B_1999...</td>\n      <td>0</td>\n    </tr>\n    <tr>\n      <th>3925</th>\n      <td>TCGA_HT_A61B</td>\n      <td>TCGA_HT_A61B_19991127</td>\n      <td>./data/TCGA_HT_A61B_19991127\\TCGA_HT_A61B_1999...</td>\n      <td>./data/TCGA_HT_A61B_19991127\\TCGA_HT_A61B_1999...</td>\n      <td>0</td>\n    </tr>\n    <tr>\n      <th>3926</th>\n      <td>TCGA_HT_A61B</td>\n      <td>TCGA_HT_A61B_19991127</td>\n      <td>./data/TCGA_HT_A61B_19991127\\TCGA_HT_A61B_1999...</td>\n      <td>./data/TCGA_HT_A61B_19991127\\TCGA_HT_A61B_1999...</td>\n      <td>0</td>\n    </tr>\n    <tr>\n      <th>3927</th>\n      <td>TCGA_HT_A61B</td>\n      <td>TCGA_HT_A61B_19991127</td>\n      <td>./data/TCGA_HT_A61B_19991127\\TCGA_HT_A61B_1999...</td>\n      <td>./data/TCGA_HT_A61B_19991127\\TCGA_HT_A61B_1999...</td>\n      <td>0</td>\n    </tr>\n    <tr>\n      <th>3928</th>\n      <td>TCGA_HT_A61B</td>\n      <td>TCGA_HT_A61B_19991127</td>\n      <td>./data/TCGA_HT_A61B_19991127\\TCGA_HT_A61B_1999...</td>\n      <td>./data/TCGA_HT_A61B_19991127\\TCGA_HT_A61B_1999...</td>\n      <td>0</td>\n    </tr>\n  </tbody>\n</table>\n<p>3929 rows × 5 columns</p>\n</div>"
     },
     "execution_count": 12,
     "metadata": {},
     "output_type": "execute_result"
    }
   ],
   "source": [
    "dir_df = dir_df.assign(Diagnosis=pd.Series(diagnoses).values)\n",
    "dir_df"
   ],
   "metadata": {
    "collapsed": false,
    "pycharm": {
     "name": "#%%\n"
    }
   }
  },
  {
   "cell_type": "code",
   "execution_count": 13,
   "outputs": [],
   "source": [
    "# sanity check\n",
    "pos = cv2.imread(dir_df.iloc[2]['Mask'])\n",
    "neg = cv2.imread(dir_df.iloc[0]['Mask'])"
   ],
   "metadata": {
    "collapsed": false,
    "pycharm": {
     "name": "#%%\n"
    }
   }
  },
  {
   "cell_type": "code",
   "execution_count": 14,
   "outputs": [
    {
     "data": {
      "text/plain": "<matplotlib.image.AxesImage at 0x1e34d26dec8>"
     },
     "execution_count": 14,
     "metadata": {},
     "output_type": "execute_result"
    },
    {
     "data": {
      "text/plain": "<Figure size 432x288 with 1 Axes>",
      "image/png": "[encoded data removed]"
     },
     "metadata": {
      "needs_background": "light"
     },
     "output_type": "display_data"
    }
   ],
   "source": [
    "import matplotlib.pyplot as plt\n",
    "plt.imshow(pos)"
   ],
   "metadata": {
    "collapsed": false,
    "pycharm": {
     "name": "#%%\n"
    }
   }
  },
  {
   "cell_type": "code",
   "execution_count": 15,
   "outputs": [
    {
     "data": {
      "text/plain": "<matplotlib.image.AxesImage at 0x1e34c583c08>"
     },
     "execution_count": 15,
     "metadata": {},
     "output_type": "execute_result"
    },
    {
     "data": {
      "text/plain": "<Figure size 432x288 with 1 Axes>",
      "image/png": "[encoded data removed]"
     },
     "metadata": {
      "needs_background": "light"
     },
     "output_type": "display_data"
    }
   ],
   "source": [
    "plt.imshow(neg)"
   ],
   "metadata": {
    "collapsed": false,
    "pycharm": {
     "name": "#%%\n"
    }
   }
  },
  {
   "cell_type": "code",
   "execution_count": 16,
   "outputs": [],
   "source": [
    "dir_df.to_csv('./data/cleaned_data.csv')"
   ],
   "metadata": {
    "collapsed": false,
    "pycharm": {
     "name": "#%%\n"
    }
   }
  },
  {
   "cell_type": "code",
   "execution_count": null,
   "outputs": [],
   "source": [],
   "metadata": {
    "collapsed": false,
    "pycharm": {
     "name": "#%%\n"
    }
   }
  }
 ],
 "metadata": {
  "kernelspec": {
   "name": "deeplearning",
   "language": "python",
   "display_name": "DeepLearning"
  },
  "language_info": {
   "codemirror_mode": {
    "name": "ipython",
    "version": 2
   },
   "file_extension": ".py",
   "mimetype": "text/x-python",
   "name": "python",
   "nbconvert_exporter": "python",
   "pygments_lexer": "ipython2",
   "version": "2.7.6"
  }
 },
 "nbformat": 4,
 "nbformat_minor": 0
}